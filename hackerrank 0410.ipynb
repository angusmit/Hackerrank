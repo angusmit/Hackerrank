{
 "cells": [
  {
   "cell_type": "code",
   "execution_count": null,
   "metadata": {},
   "outputs": [],
   "source": [
    "# Lists\n",
    "\n",
    "# Consider a list (list = []). You can perform the following commands:\n",
    "# insert i e: Insert integer e at position i.\n",
    "# print: Print the list.\n",
    "# remove e: Delete the first occurrence of integer e.\n",
    "# append e: Insert integer e at the end of the list.\n",
    "# sort: Sort the list.\n",
    "# pop: Pop the last element from the list.\n",
    "# reverse: Reverse the list.\n",
    "\n",
    "# Initialize your list and read in the value of n followed by n lines of commands where each command will be of the types listed above.\n",
    "# Iterate through each command in order and perform the corresponding operation on your list.\n",
    "\n",
    "# Input Format\n",
    "# The first line contains an integer, n, denoting the number of commands. \n",
    "# Each line i of the n subsequent lines contains one of the commands described above.\n",
    "\n",
    "# Constraints\n",
    "# The elements added to the list must be integers.\n",
    "\n",
    "# Output Format\n",
    "# For each command of type print, print the list on a new line.\n",
    "\n",
    "\n",
    "# Enter your code here. Read input from STDIN. Print output to STDOUT\n",
    "list = []\n",
    "n = int(input())    \n",
    "for i in range(n):\n",
    "    a = input().split()\n",
    "    if a[0] == \"print\":\n",
    "        print(list)\n",
    "    elif a[0] == \"insert\":\n",
    "        eval(\"list.\" + a[0] + \"(\" + a[1] + \",\" + a[2] + \")\")\n",
    "    elif a[0] == \"remove\" or a[0] == \"append\":\n",
    "        eval(\"list.\" + a[0] + \"(\" + a[1] + \")\")\n",
    "    else:\n",
    "        eval(\"list.\" + a[0] + \"()\")\n",
    "    "
   ]
  }
 ],
 "metadata": {
  "kernelspec": {
   "display_name": "Python 3",
   "language": "python",
   "name": "python3"
  }
 },
 "nbformat": 4,
 "nbformat_minor": 4
}
